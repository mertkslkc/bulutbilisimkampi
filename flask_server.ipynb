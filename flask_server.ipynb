{
 "cells": [
  {
   "cell_type": "code",
   "execution_count": null,
   "id": "5e04f850-b431-4988-abe2-c0997a5bc983",
   "metadata": {},
   "outputs": [],
   "source": [
    "!pip install Flask==2.0.3\n",
    "!pip install gunicorn==20.1.0"
   ]
  },
  {
   "cell_type": "code",
   "execution_count": null,
   "id": "ae2f3aac-b004-4dc3-a584-06c2c13804be",
   "metadata": {},
   "outputs": [],
   "source": [
    "!FLASK_ENV=development FLASK_APP=wsgi.py flask run"
   ]
  }
 ],
 "metadata": {
  "kernelspec": {
   "display_name": "Python 3 (ipykernel)",
   "language": "python",
   "name": "python3"
  },
  "language_info": {
   "codemirror_mode": {
    "name": "ipython",
    "version": 3
   },
   "file_extension": ".py",
   "mimetype": "text/x-python",
   "name": "python",
   "nbconvert_exporter": "python",
   "pygments_lexer": "ipython3",
   "version": "3.8.12"
  }
 },
 "nbformat": 4,
 "nbformat_minor": 5
}
