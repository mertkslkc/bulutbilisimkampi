{
 "cells": [
  {
   "cell_type": "code",
   "execution_count": 7,
   "id": "1c64c9e7-bc3e-47f3-8004-7c7dd9722872",
   "metadata": {},
   "outputs": [],
   "source": [
    "my_route = 'https://bulutbilisimkampi-kislakci-mert-dev.apps.sandbox.x8i5.p1.openshiftapps.com/'"
   ]
  },
  {
   "cell_type": "code",
   "execution_count": 8,
   "id": "f6abbb91-1dc0-4104-8511-1994719ac9ab",
   "metadata": {},
   "outputs": [],
   "source": [
    "data = '{\"datetime\" :[ \\\n",
    "        \"Wed Sep 30 2022 00:00:00 GMT+0300 (GMT+03:00)\", \\\n",
    "        \"Wed Sep 30 2022 01:00:00 GMT+0300 (GMT+03:00)\",\\\n",
    "        \"Wed Sep 30 2022 02:00:00 GMT+0300 (GMT+03:00)\",\\\n",
    "        \"Wed Sep 30 2022 03:00:00 GMT+0300 (GMT+03:00)\",\\\n",
    "        \"Wed Sep 30 2022 04:00:00 GMT+0300 (GMT+03:00)\",\\\n",
    "        \"Wed Sep 30 2022 05:00:00 GMT+0300 (GMT+03:00)\",\\\n",
    "        \"Wed Sep 30 2022 06:00:00 GMT+0300 (GMT+03:00)\",\\\n",
    "        \"Wed Sep 30 2022 07:00:00 GMT+0300 (GMT+03:00)\",\\\n",
    "        \"Wed Sep 30 2022 08:00:00 GMT+0300 (GMT+03:00)\",\\\n",
    "        \"Wed Sep 30 2022 09:00:00 GMT+0300 (GMT+03:00)\",\\\n",
    "        \"Wed Sep 30 2022 10:00:00 GMT+0300 (GMT+03:00)\",\\\n",
    "        \"Wed Sep 30 2022 11:00:00 GMT+0300 (GMT+03:00)\" ],\\\n",
    "    \"cpu_usage\": [12.50,40.53,32.32,65.12,4.78,4.22,16.50,28.53,33.11,61.12,4.38,4.62]\\\n",
    "}'"
   ]
  },
  {
   "cell_type": "code",
   "execution_count": 26,
   "id": "d948b7d8-05ef-4b85-88b4-278df19ee5f8",
   "metadata": {},
   "outputs": [
    {
     "name": "stderr",
     "output_type": "stream",
     "text": [
      "/opt/app-root/lib64/python3.8/site-packages/urllib3/connectionpool.py:1043: InsecureRequestWarning: Unverified HTTPS request is being made to host 'bulutbilisimkampi-kislakci-mert-dev.apps.sandbox.x8i5.p1.openshiftapps.com'. Adding certificate verification is strongly advised. See: https://urllib3.readthedocs.io/en/1.26.x/advanced-usage.html#ssl-warnings\n",
      "  warnings.warn(\n"
     ]
    }
   ],
   "source": [
    "import requests\n",
    "import json\n",
    "\n",
    "r = requests.post(my_route + '/prediction', data=data, verify=False)\n",
    "\n",
    "r = r.json()"
   ]
  },
  {
   "cell_type": "code",
   "execution_count": 25,
   "id": "da2de61a-67cc-41c4-b49e-daf878e3b21e",
   "metadata": {},
   "outputs": [
    {
     "data": {
      "text/html": [
       "<div>\n",
       "<style scoped>\n",
       "    .dataframe tbody tr th:only-of-type {\n",
       "        vertical-align: middle;\n",
       "    }\n",
       "\n",
       "    .dataframe tbody tr th {\n",
       "        vertical-align: top;\n",
       "    }\n",
       "\n",
       "    .dataframe thead th {\n",
       "        text-align: right;\n",
       "    }\n",
       "</style>\n",
       "<table border=\"1\" class=\"dataframe\">\n",
       "  <thead>\n",
       "    <tr style=\"text-align: right;\">\n",
       "      <th></th>\n",
       "      <th>0</th>\n",
       "    </tr>\n",
       "  </thead>\n",
       "  <tbody>\n",
       "    <tr>\n",
       "      <th>0</th>\n",
       "      <td>b'{\"anomaly\":[false,true,true,true,false,false...</td>\n",
       "    </tr>\n",
       "    <tr>\n",
       "      <th>1</th>\n",
       "      <td>b'5,28.53,33.11,61.12,4.38,4.62],\"datetime\":[\"...</td>\n",
       "    </tr>\n",
       "    <tr>\n",
       "      <th>2</th>\n",
       "      <td>b'MT+03:00)\",\"Wed Sep 30 2022 02:00:00 GMT+030...</td>\n",
       "    </tr>\n",
       "    <tr>\n",
       "      <th>3</th>\n",
       "      <td>b'0:00 GMT+0300 (GMT+03:00)\",\"Wed Sep 30 2022 ...</td>\n",
       "    </tr>\n",
       "    <tr>\n",
       "      <th>4</th>\n",
       "      <td>b'Sep 30 2022 07:00:00 GMT+0300 (GMT+03:00)\",\"...</td>\n",
       "    </tr>\n",
       "    <tr>\n",
       "      <th>5</th>\n",
       "      <td>b'MT+03:00)\",\"Wed Sep 30 2022 10:00:00 GMT+030...</td>\n",
       "    </tr>\n",
       "  </tbody>\n",
       "</table>\n",
       "</div>"
      ],
      "text/plain": [
       "                                                   0\n",
       "0  b'{\"anomaly\":[false,true,true,true,false,false...\n",
       "1  b'5,28.53,33.11,61.12,4.38,4.62],\"datetime\":[\"...\n",
       "2  b'MT+03:00)\",\"Wed Sep 30 2022 02:00:00 GMT+030...\n",
       "3  b'0:00 GMT+0300 (GMT+03:00)\",\"Wed Sep 30 2022 ...\n",
       "4  b'Sep 30 2022 07:00:00 GMT+0300 (GMT+03:00)\",\"...\n",
       "5  b'MT+03:00)\",\"Wed Sep 30 2022 10:00:00 GMT+030..."
      ]
     },
     "execution_count": 25,
     "metadata": {},
     "output_type": "execute_result"
    }
   ],
   "source": [
    "import pandas as pd\n",
    "\n",
    "df = pd.DataFrame(r)\n",
    "df"
   ]
  },
  {
   "cell_type": "code",
   "execution_count": null,
   "id": "421ef06c-52df-4915-92de-583228a1674b",
   "metadata": {},
   "outputs": [],
   "source": []
  }
 ],
 "metadata": {
  "kernelspec": {
   "display_name": "Python 3 (ipykernel)",
   "language": "python",
   "name": "python3"
  },
  "language_info": {
   "codemirror_mode": {
    "name": "ipython",
    "version": 3
   },
   "file_extension": ".py",
   "mimetype": "text/x-python",
   "name": "python",
   "nbconvert_exporter": "python",
   "pygments_lexer": "ipython3",
   "version": "3.8.12"
  }
 },
 "nbformat": 4,
 "nbformat_minor": 5
}
