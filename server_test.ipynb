{
 "cells": [
  {
   "cell_type": "code",
   "execution_count": 93,
   "id": "634fbdaa-cb45-4bb1-ad07-1bdf8a185148",
   "metadata": {},
   "outputs": [
    {
     "name": "stdout",
     "output_type": "stream",
     "text": [
      "{\n",
      "  \"status\": \"online\"\n",
      "}\n"
     ]
    }
   ],
   "source": [
    "!curl http://localhost:5000/status"
   ]
  },
  {
   "cell_type": "code",
   "execution_count": 106,
   "id": "0fc3bcc7-aef7-43cf-a066-106b4b4b13ee",
   "metadata": {},
   "outputs": [],
   "source": [
    "data = '{\"datetime\" :[ \\\n",
    "        \"Wed Sep 30 2022 00:00:00 GMT+0300 (GMT+03:00)\", \\\n",
    "        \"Wed Sep 30 2022 01:00:00 GMT+0300 (GMT+03:00)\",\\\n",
    "        \"Wed Sep 30 2022 02:00:00 GMT+0300 (GMT+03:00)\",\\\n",
    "        \"Wed Sep 30 2022 03:00:00 GMT+0300 (GMT+03:00)\",\\\n",
    "        \"Wed Sep 30 2022 04:00:00 GMT+0300 (GMT+03:00)\",\\\n",
    "        \"Wed Sep 30 2022 05:00:00 GMT+0300 (GMT+03:00)\",\\\n",
    "        \"Wed Sep 30 2022 06:00:00 GMT+0300 (GMT+03:00)\",\\\n",
    "        \"Wed Sep 30 2022 07:00:00 GMT+0300 (GMT+03:00)\",\\\n",
    "        \"Wed Sep 30 2022 08:00:00 GMT+0300 (GMT+03:00)\",\\\n",
    "        \"Wed Sep 30 2022 09:00:00 GMT+0300 (GMT+03:00)\",\\\n",
    "        \"Wed Sep 30 2022 10:00:00 GMT+0300 (GMT+03:00)\",\\\n",
    "        \"Wed Sep 30 2022 11:00:00 GMT+0300 (GMT+03:00)\" ],\\\n",
    "    \"cpu_usage\": [12.50,40.53,32.32,65.12,4.78,4.22,16.50,28.53,33.11,61.12,4.38,4.62]\\\n",
    "}'"
   ]
  },
  {
   "cell_type": "code",
   "execution_count": 107,
   "id": "a5d35843-96c8-4fd9-98aa-0ea5eabd41f4",
   "metadata": {},
   "outputs": [],
   "source": [
    "import requests\n",
    "import json\n",
    "\n",
    "response = requests.post('http://127.0.0.1:5000/prediction', data)\n",
    "back_response = response.json()\n"
   ]
  },
  {
   "cell_type": "code",
   "execution_count": 108,
   "id": "84bb01d4-8447-4c2d-976d-a36a9918730e",
   "metadata": {},
   "outputs": [
    {
     "data": {
      "text/plain": [
       "{'anomaly': [False,\n",
       "  True,\n",
       "  True,\n",
       "  True,\n",
       "  False,\n",
       "  False,\n",
       "  False,\n",
       "  True,\n",
       "  True,\n",
       "  True,\n",
       "  False,\n",
       "  False],\n",
       " 'cpu_usage': [12.5,\n",
       "  40.53,\n",
       "  32.32,\n",
       "  65.12,\n",
       "  4.78,\n",
       "  4.22,\n",
       "  16.5,\n",
       "  28.53,\n",
       "  33.11,\n",
       "  61.12,\n",
       "  4.38,\n",
       "  4.62],\n",
       " 'datetime': ['Wed Sep 30 2022 00:00:00 GMT+0300 (GMT+03:00)',\n",
       "  'Wed Sep 30 2022 01:00:00 GMT+0300 (GMT+03:00)',\n",
       "  'Wed Sep 30 2022 02:00:00 GMT+0300 (GMT+03:00)',\n",
       "  'Wed Sep 30 2022 03:00:00 GMT+0300 (GMT+03:00)',\n",
       "  'Wed Sep 30 2022 04:00:00 GMT+0300 (GMT+03:00)',\n",
       "  'Wed Sep 30 2022 05:00:00 GMT+0300 (GMT+03:00)',\n",
       "  'Wed Sep 30 2022 06:00:00 GMT+0300 (GMT+03:00)',\n",
       "  'Wed Sep 30 2022 07:00:00 GMT+0300 (GMT+03:00)',\n",
       "  'Wed Sep 30 2022 08:00:00 GMT+0300 (GMT+03:00)',\n",
       "  'Wed Sep 30 2022 09:00:00 GMT+0300 (GMT+03:00)',\n",
       "  'Wed Sep 30 2022 10:00:00 GMT+0300 (GMT+03:00)',\n",
       "  'Wed Sep 30 2022 11:00:00 GMT+0300 (GMT+03:00)']}"
      ]
     },
     "execution_count": 108,
     "metadata": {},
     "output_type": "execute_result"
    }
   ],
   "source": [
    "back_response"
   ]
  },
  {
   "cell_type": "code",
   "execution_count": 109,
   "id": "7adc68d3-65c2-47ce-84d8-20a63a988aef",
   "metadata": {},
   "outputs": [
    {
     "data": {
      "text/html": [
       "<div>\n",
       "<style scoped>\n",
       "    .dataframe tbody tr th:only-of-type {\n",
       "        vertical-align: middle;\n",
       "    }\n",
       "\n",
       "    .dataframe tbody tr th {\n",
       "        vertical-align: top;\n",
       "    }\n",
       "\n",
       "    .dataframe thead th {\n",
       "        text-align: right;\n",
       "    }\n",
       "</style>\n",
       "<table border=\"1\" class=\"dataframe\">\n",
       "  <thead>\n",
       "    <tr style=\"text-align: right;\">\n",
       "      <th></th>\n",
       "      <th>anomaly</th>\n",
       "      <th>cpu_usage</th>\n",
       "      <th>datetime</th>\n",
       "    </tr>\n",
       "  </thead>\n",
       "  <tbody>\n",
       "    <tr>\n",
       "      <th>0</th>\n",
       "      <td>False</td>\n",
       "      <td>12.50</td>\n",
       "      <td>Wed Sep 30 2022 00:00:00 GMT+0300 (GMT+03:00)</td>\n",
       "    </tr>\n",
       "    <tr>\n",
       "      <th>1</th>\n",
       "      <td>True</td>\n",
       "      <td>40.53</td>\n",
       "      <td>Wed Sep 30 2022 01:00:00 GMT+0300 (GMT+03:00)</td>\n",
       "    </tr>\n",
       "    <tr>\n",
       "      <th>2</th>\n",
       "      <td>True</td>\n",
       "      <td>32.32</td>\n",
       "      <td>Wed Sep 30 2022 02:00:00 GMT+0300 (GMT+03:00)</td>\n",
       "    </tr>\n",
       "    <tr>\n",
       "      <th>3</th>\n",
       "      <td>True</td>\n",
       "      <td>65.12</td>\n",
       "      <td>Wed Sep 30 2022 03:00:00 GMT+0300 (GMT+03:00)</td>\n",
       "    </tr>\n",
       "    <tr>\n",
       "      <th>4</th>\n",
       "      <td>False</td>\n",
       "      <td>4.78</td>\n",
       "      <td>Wed Sep 30 2022 04:00:00 GMT+0300 (GMT+03:00)</td>\n",
       "    </tr>\n",
       "    <tr>\n",
       "      <th>5</th>\n",
       "      <td>False</td>\n",
       "      <td>4.22</td>\n",
       "      <td>Wed Sep 30 2022 05:00:00 GMT+0300 (GMT+03:00)</td>\n",
       "    </tr>\n",
       "    <tr>\n",
       "      <th>6</th>\n",
       "      <td>False</td>\n",
       "      <td>16.50</td>\n",
       "      <td>Wed Sep 30 2022 06:00:00 GMT+0300 (GMT+03:00)</td>\n",
       "    </tr>\n",
       "    <tr>\n",
       "      <th>7</th>\n",
       "      <td>True</td>\n",
       "      <td>28.53</td>\n",
       "      <td>Wed Sep 30 2022 07:00:00 GMT+0300 (GMT+03:00)</td>\n",
       "    </tr>\n",
       "    <tr>\n",
       "      <th>8</th>\n",
       "      <td>True</td>\n",
       "      <td>33.11</td>\n",
       "      <td>Wed Sep 30 2022 08:00:00 GMT+0300 (GMT+03:00)</td>\n",
       "    </tr>\n",
       "    <tr>\n",
       "      <th>9</th>\n",
       "      <td>True</td>\n",
       "      <td>61.12</td>\n",
       "      <td>Wed Sep 30 2022 09:00:00 GMT+0300 (GMT+03:00)</td>\n",
       "    </tr>\n",
       "    <tr>\n",
       "      <th>10</th>\n",
       "      <td>False</td>\n",
       "      <td>4.38</td>\n",
       "      <td>Wed Sep 30 2022 10:00:00 GMT+0300 (GMT+03:00)</td>\n",
       "    </tr>\n",
       "    <tr>\n",
       "      <th>11</th>\n",
       "      <td>False</td>\n",
       "      <td>4.62</td>\n",
       "      <td>Wed Sep 30 2022 11:00:00 GMT+0300 (GMT+03:00)</td>\n",
       "    </tr>\n",
       "  </tbody>\n",
       "</table>\n",
       "</div>"
      ],
      "text/plain": [
       "    anomaly  cpu_usage                                       datetime\n",
       "0     False      12.50  Wed Sep 30 2022 00:00:00 GMT+0300 (GMT+03:00)\n",
       "1      True      40.53  Wed Sep 30 2022 01:00:00 GMT+0300 (GMT+03:00)\n",
       "2      True      32.32  Wed Sep 30 2022 02:00:00 GMT+0300 (GMT+03:00)\n",
       "3      True      65.12  Wed Sep 30 2022 03:00:00 GMT+0300 (GMT+03:00)\n",
       "4     False       4.78  Wed Sep 30 2022 04:00:00 GMT+0300 (GMT+03:00)\n",
       "5     False       4.22  Wed Sep 30 2022 05:00:00 GMT+0300 (GMT+03:00)\n",
       "6     False      16.50  Wed Sep 30 2022 06:00:00 GMT+0300 (GMT+03:00)\n",
       "7      True      28.53  Wed Sep 30 2022 07:00:00 GMT+0300 (GMT+03:00)\n",
       "8      True      33.11  Wed Sep 30 2022 08:00:00 GMT+0300 (GMT+03:00)\n",
       "9      True      61.12  Wed Sep 30 2022 09:00:00 GMT+0300 (GMT+03:00)\n",
       "10    False       4.38  Wed Sep 30 2022 10:00:00 GMT+0300 (GMT+03:00)\n",
       "11    False       4.62  Wed Sep 30 2022 11:00:00 GMT+0300 (GMT+03:00)"
      ]
     },
     "execution_count": 109,
     "metadata": {},
     "output_type": "execute_result"
    }
   ],
   "source": [
    "import pandas as pd\n",
    "\n",
    "df = pd.DataFrame(back_response)\n",
    "df"
   ]
  },
  {
   "cell_type": "code",
   "execution_count": null,
   "id": "8d7cbda7-2107-45c1-8ae1-041f4db90863",
   "metadata": {},
   "outputs": [],
   "source": []
  }
 ],
 "metadata": {
  "kernelspec": {
   "display_name": "Python 3 (ipykernel)",
   "language": "python",
   "name": "python3"
  },
  "language_info": {
   "codemirror_mode": {
    "name": "ipython",
    "version": 3
   },
   "file_extension": ".py",
   "mimetype": "text/x-python",
   "name": "python",
   "nbconvert_exporter": "python",
   "pygments_lexer": "ipython3",
   "version": "3.8.12"
  }
 },
 "nbformat": 4,
 "nbformat_minor": 5
}
