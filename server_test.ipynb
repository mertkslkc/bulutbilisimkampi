{
 "cells": [
  {
   "cell_type": "code",
   "execution_count": 242,
   "id": "634fbdaa-cb45-4bb1-ad07-1bdf8a185148",
   "metadata": {},
   "outputs": [
    {
     "name": "stdout",
     "output_type": "stream",
     "text": [
      "{\n",
      "  \"status\": \"ok\"\n",
      "}\n"
     ]
    }
   ],
   "source": [
    "!curl http://localhost:5000/status"
   ]
  },
  {
   "cell_type": "code",
   "execution_count": 422,
   "id": "a5d35843-96c8-4fd9-98aa-0ea5eabd41f4",
   "metadata": {},
   "outputs": [],
   "source": [
    "import requests\n",
    "import json\n",
    "response = requests.post('http://127.0.0.1:5000/prediction','{\"datetime\" :[ \\\n",
    "        \"Wed Sep 30 2022 00:00:00 GMT+0300 (GMT+03:00)\", \\\n",
    "        \"Wed Sep 30 2022 01:00:00 GMT+0300 (GMT+03:00)\",\\\n",
    "        \"Wed Sep 30 2022 02:00:00 GMT+0300 (GMT+03:00)\",\\\n",
    "        \"Wed Sep 30 2022 03:00:00 GMT+0300 (GMT+03:00)\",\\\n",
    "        \"Wed Sep 30 2022 04:00:00 GMT+0300 (GMT+03:00)\",\\\n",
    "        \"Wed Sep 30 2022 05:00:00 GMT+0300 (GMT+03:00)\",\\\n",
    "        \"Wed Sep 30 2022 06:00:00 GMT+0300 (GMT+03:00)\",\\\n",
    "        \"Wed Sep 30 2022 07:00:00 GMT+0300 (GMT+03:00)\",\\\n",
    "        \"Wed Sep 30 2022 08:00:00 GMT+0300 (GMT+03:00)\",\\\n",
    "        \"Wed Sep 30 2022 09:00:00 GMT+0300 (GMT+03:00)\",\\\n",
    "        \"Wed Sep 30 2022 10:00:00 GMT+0300 (GMT+03:00)\",\\\n",
    "        \"Wed Sep 30 2022 11:00:00 GMT+0300 (GMT+03:00)\" ],\\\n",
    "    \"cpu_usage\": [12.50,40.53,32.32,65.12,4.78,4.22,16.50,45.53,33.32,61.12,4.38,4.62]\\\n",
    "}')\n",
    "response.json()"
   ]
  },
  {
   "cell_type": "code",
   "execution_count": null,
   "id": "84bb01d4-8447-4c2d-976d-a36a9918730e",
   "metadata": {},
   "outputs": [],
   "source": []
  }
 ],
 "metadata": {
  "kernelspec": {
   "display_name": "Python 3 (ipykernel)",
   "language": "python",
   "name": "python3"
  },
  "language_info": {
   "codemirror_mode": {
    "name": "ipython",
    "version": 3
   },
   "file_extension": ".py",
   "mimetype": "text/x-python",
   "name": "python",
   "nbconvert_exporter": "python",
   "pygments_lexer": "ipython3",
   "version": "3.8.12"
  }
 },
 "nbformat": 4,
 "nbformat_minor": 5
}
